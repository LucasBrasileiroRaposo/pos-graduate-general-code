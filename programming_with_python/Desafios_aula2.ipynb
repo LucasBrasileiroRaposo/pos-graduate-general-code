{
 "cells": [
  {
   "cell_type": "markdown",
   "metadata": {},
   "source": [
    "# Questão 1"
   ]
  },
  {
   "cell_type": "markdown",
   "metadata": {},
   "source": [
    "**DESAFIO 1**\n",
    "\n",
    "Escreva uma função recursiva chamada **somaAlgarismos** que receba um número inteiro como parâmetro e retorne a soma de seus algarismos. Se, por exemplo, a função receber o número 875, deverá retornar o valor 20 (8 + 7 + 5).\n",
    "\n",
    "Escreva um programa para realizar, pelo menos, dois testes da sua função. Utilize números de um e mais dígitos.\n"
   ]
  },
  {
   "cell_type": "code",
   "execution_count": 7,
   "metadata": {},
   "outputs": [],
   "source": [
    "def somaAlgarismos(n):\n",
    "    if n < 10:\n",
    "        return n\n",
    "    soma = n % 10\n",
    "    soma += somaAlgarismos(n//10)\n",
    "    return soma"
   ]
  },
  {
   "cell_type": "code",
   "execution_count": 10,
   "metadata": {},
   "outputs": [
    {
     "data": {
      "text/plain": [
       "20"
      ]
     },
     "execution_count": 10,
     "metadata": {},
     "output_type": "execute_result"
    }
   ],
   "source": [
    "somaAlgarismos(875)"
   ]
  },
  {
   "cell_type": "markdown",
   "metadata": {},
   "source": [
    "# Questão 2"
   ]
  },
  {
   "cell_type": "markdown",
   "metadata": {},
   "source": [
    "**DESAFIO 2**\n",
    "\n",
    "Escreva uma função recursiva chamada **exibeAlgarismos** que receba um número inteiro como parâmetro e exibe seus algarismos, um por linha. Se, por exemplo, a função receber o número 8752, deverá exibir:\n",
    "\n",
    "8\n",
    "\n",
    "7\n",
    "\n",
    "5\n",
    "\n",
    "2\n",
    "\n",
    "Escreva um programa para testar a sua função.\n"
   ]
  },
  {
   "cell_type": "code",
   "execution_count": 23,
   "metadata": {},
   "outputs": [],
   "source": [
    "def exibeAlgarismos(n):\n",
    "    if n < 10:\n",
    "        print(n)\n",
    "    else:\n",
    "        exibeAlgarismos(n//10)\n",
    "        print(n % 10)"
   ]
  },
  {
   "cell_type": "code",
   "execution_count": 24,
   "metadata": {},
   "outputs": [
    {
     "name": "stdout",
     "output_type": "stream",
     "text": [
      "8\n",
      "7\n",
      "5\n",
      "2\n"
     ]
    }
   ],
   "source": [
    "exibeAlgarismos(8752)"
   ]
  },
  {
   "cell_type": "markdown",
   "metadata": {},
   "source": [
    "# Questão 3"
   ]
  },
  {
   "cell_type": "markdown",
   "metadata": {},
   "source": [
    "**DESAFIO 3**\n",
    "\n",
    "Escreva uma função recursiva chamada **contaVogais** que receba uma string como parâmetro e retorne a quantidade de vogais que ela contém. Se, por exemplo, a função receber a string \"LinguAgeM PythOn\", deverá retornar o valor 5 pois a string possui 5 vogais.\n",
    "\n",
    "Escreva um programa para realizar vários testes da sua função: com string vazia, com vogais se sem vogais, de vários tamanhos.\n"
   ]
  },
  {
   "cell_type": "code",
   "execution_count": 33,
   "metadata": {},
   "outputs": [
    {
     "name": "stdout",
     "output_type": "stream",
     "text": [
      "tes\n"
     ]
    }
   ],
   "source": [
    "str = \"teste\"\n",
    "print(str[:-1])"
   ]
  },
  {
   "cell_type": "code",
   "execution_count": 34,
   "metadata": {},
   "outputs": [],
   "source": [
    "def contaVogais(frase):\n",
    "\n",
    "    if len(frase) == 0:\n",
    "        return 0\n",
    "    else:\n",
    "        if frase[-1] in \"aeiouAEIOU\":\n",
    "            return 1 + contaVogais(frase[:-1])\n",
    "        else:\n",
    "            return contaVogais(frase[:-1])"
   ]
  },
  {
   "cell_type": "code",
   "execution_count": 35,
   "metadata": {},
   "outputs": [
    {
     "data": {
      "text/plain": [
       "5"
      ]
     },
     "execution_count": 35,
     "metadata": {},
     "output_type": "execute_result"
    }
   ],
   "source": [
    "str = \"LinguAgeM PythOn\"\n",
    "\n",
    "contaVogais(str)"
   ]
  },
  {
   "cell_type": "markdown",
   "metadata": {},
   "source": [
    "# Questão 4"
   ]
  },
  {
   "cell_type": "markdown",
   "metadata": {},
   "source": [
    "**DESAFIO 4**\n",
    "\n",
    "Escreva uma função recursiva chamada **exibeStrInvertida** que receba uma string como parâmetro e imprima cada caractere da string em uma linha, em ordem invertida, ou seja, o último caractere, depois o penúltimo, e assim por diante, até exibir o primeiro. Se, por exemplo, a função receber a string 'Python', deverá imprimir:\n",
    "\n",
    "n\n",
    "\n",
    "o\n",
    "\n",
    "h\n",
    "\n",
    "t\n",
    "\n",
    "y\n",
    "\n",
    "P\n",
    "\n",
    "Escreva um programa para testar a sua função.\n"
   ]
  },
  {
   "cell_type": "code",
   "execution_count": 36,
   "metadata": {},
   "outputs": [],
   "source": [
    "def exibeStrInvertida(str):\n",
    "    if (len(str) == 0):\n",
    "        return\n",
    "    else:\n",
    "        print(str[-1])\n",
    "        exibeStrInvertida(str[:-1])"
   ]
  },
  {
   "cell_type": "code",
   "execution_count": 38,
   "metadata": {},
   "outputs": [
    {
     "name": "stdout",
     "output_type": "stream",
     "text": [
      "n\n",
      "o\n",
      "h\n",
      "t\n",
      "y\n",
      "P\n",
      " \n",
      "m\n",
      "e\n",
      "g\n",
      "a\n",
      "u\n",
      "g\n",
      "n\n",
      "i\n",
      "L\n",
      "n\n",
      "o\n",
      "h\n",
      "t\n",
      "y\n",
      "P\n"
     ]
    }
   ],
   "source": [
    "exibeStrInvertida(\"Linguagem Python\")\n",
    "exibeStrInvertida(\"Python\")"
   ]
  },
  {
   "cell_type": "markdown",
   "metadata": {},
   "source": [
    "# Questão 5"
   ]
  },
  {
   "cell_type": "markdown",
   "metadata": {},
   "source": [
    "**DESAFIO 5**\n",
    "\n",
    "Escreva uma função recursiva chamada **strInvertida** que receba uma string como parâmetro e retorne a string invertida. Se, por exemplo, a função receber a string 'Python', deverá retornar a string 'nohtyP'.\n",
    "\n",
    "Escreva um programa para testar a sua função.\n"
   ]
  },
  {
   "cell_type": "code",
   "execution_count": 62,
   "metadata": {},
   "outputs": [],
   "source": [
    "def strInvertida(str):\n",
    "\n",
    "    if len(str) == 1:\n",
    "        return str[-1]\n",
    "    else:\n",
    "        return str[-1] + strInvertida(str[:-1])"
   ]
  },
  {
   "cell_type": "code",
   "execution_count": 63,
   "metadata": {},
   "outputs": [
    {
     "data": {
      "text/plain": [
       "'nohtyP megaugniL'"
      ]
     },
     "execution_count": 63,
     "metadata": {},
     "output_type": "execute_result"
    }
   ],
   "source": [
    "strInvertida(\"Linguagem Python\")"
   ]
  },
  {
   "cell_type": "code",
   "execution_count": 57,
   "metadata": {},
   "outputs": [
    {
     "data": {
      "text/plain": [
       "'a'"
      ]
     },
     "execution_count": 57,
     "metadata": {},
     "output_type": "execute_result"
    }
   ],
   "source": [
    "str = ''\n",
    "str += 'a'\n",
    "str"
   ]
  },
  {
   "cell_type": "markdown",
   "metadata": {},
   "source": [
    "# Questão 6"
   ]
  },
  {
   "cell_type": "markdown",
   "metadata": {},
   "source": [
    "**DESAFIO 6**\n",
    "\n",
    "Escreva uma função recursiva chamada **contemCaractere** que receba uma string e um caractere (string de tamanho 1) como parâmetros e retorne  True se o caractere faz parte da string ou False, caso não faça. Se, por exemplo, a função receber a string \"LinguAgeM PythOn!\" e o caractere 'M', deverá retornar True; caso receba a mesma string e o caractere '@', deverá retornar False.\n",
    "\n",
    "Escreva um programa que leia uma string e um caractere e, após a chamada da **contemCaractere** exiba uma mensagem afirmando que o caractere faz ou não parte da string, dependendo do caso.\n",
    "\n",
    "Dica: só é possível afirmar que o caractere não faz parte da string após comparar todos os caracteres da string (um a um, claro) com o caractere recebido como parâmetro. Por outro lado, ao encontrar o caractere na string, é possível afirmar que o caractere faz parte da string (e isso basta!). Isso sugere que a função possui dois casos base!\n"
   ]
  },
  {
   "cell_type": "code",
   "execution_count": 84,
   "metadata": {},
   "outputs": [],
   "source": [
    "def contemCaractere(str, char):\n",
    "\n",
    "    result = False\n",
    "    if len(str) == 1:\n",
    "        if char == str[-1]:\n",
    "            result = True\n",
    "            return result\n",
    "    else:\n",
    "        # if result == True: return\n",
    "        result = contemCaractere(str[:-1], char)\n",
    "\n",
    "    return result\n",
    "\n",
    "\n"
   ]
  },
  {
   "cell_type": "code",
   "execution_count": 85,
   "metadata": {},
   "outputs": [
    {
     "data": {
      "text/plain": [
       "False"
      ]
     },
     "execution_count": 85,
     "metadata": {},
     "output_type": "execute_result"
    }
   ],
   "source": [
    "contemCaractere(\"Linguagem Python\", \"@\")"
   ]
  }
 ],
 "metadata": {
  "kernelspec": {
   "display_name": "Python 3",
   "language": "python",
   "name": "python3"
  },
  "language_info": {
   "codemirror_mode": {
    "name": "ipython",
    "version": 3
   },
   "file_extension": ".py",
   "mimetype": "text/x-python",
   "name": "python",
   "nbconvert_exporter": "python",
   "pygments_lexer": "ipython3",
   "version": "3.11.4"
  }
 },
 "nbformat": 4,
 "nbformat_minor": 2
}
