{
 "cells": [
  {
   "cell_type": "markdown",
   "metadata": {},
   "source": [
    "# Questão 1"
   ]
  },
  {
   "cell_type": "markdown",
   "metadata": {},
   "source": [
    "**DESAFIO 1**\n",
    "\n",
    "Escreva uma função recursiva chamada **somaElementosV1** que receba uma lista com valores inteiros e reais como parâmetro e retorne a soma de seus elementos. Se, por exemplo, a função receber a lista [2, [2, [1, 8]], 8, [-3.14159, [3, [6, 9]]]], deverá retornar o valor 35.85841 (2 + 2 + 1 + 8 + 8 - 3.14159 + 3 + 6 + 9).\n",
    "\n",
    "Escreva um programa para realizar um teste da sua função."
   ]
  },
  {
   "cell_type": "code",
   "execution_count": 7,
   "metadata": {},
   "outputs": [],
   "source": [
    "def somaElementosV1(lista):\n",
    "    \n",
    "    if len(lista) == 0:\n",
    "        return 0\n",
    "    \n",
    "    soma = 0\n",
    "    \n",
    "    for i in lista:\n",
    "\n",
    "        if type(i) == list:\n",
    "            soma += somaElementosV1(i)\n",
    "        else:\n",
    "            soma += i\n",
    "        \n",
    "    \n",
    "    return soma"
   ]
  },
  {
   "cell_type": "code",
   "execution_count": 8,
   "metadata": {},
   "outputs": [
    {
     "data": {
      "text/plain": [
       "35.85841"
      ]
     },
     "execution_count": 8,
     "metadata": {},
     "output_type": "execute_result"
    }
   ],
   "source": [
    "somaElementosV1([2, [2, [1, 8]], 8, [-3.14159, [3, [6, 9]]]])"
   ]
  },
  {
   "cell_type": "markdown",
   "metadata": {},
   "source": [
    "# Questão 2"
   ]
  },
  {
   "cell_type": "markdown",
   "metadata": {},
   "source": [
    "**DESAFIO 2**\n",
    "\n",
    "Escreva uma função recursiva chamada **somaElementosV2** que receba uma lista com valores de vários tipos como parâmetro e retorne a soma de seus elementos inteiros e reais. Se, por exemplo, a função receber a lista ['Python', 2, [2, True, [1, 8]], 8, [-3.14159, [3, 'Colab', [6, 9]]]], deverá retornar o valor 35.85841 (2 + 2 + 1 + 8 + 8 - 3.14159 + 3 + 6 + 9).\n",
    "\n",
    "Escreva um programa para realizar um teste da sua função.\n",
    "\n",
    "Dica: copie a função do desafio anterior e ajuste-a para somar apenas elementos inteiros e reais."
   ]
  },
  {
   "cell_type": "code",
   "execution_count": 15,
   "metadata": {},
   "outputs": [],
   "source": [
    "def somaElementosV2(lista):\n",
    "    \n",
    "    if len(lista) == 0:\n",
    "        return 0\n",
    "    \n",
    "    soma = 0\n",
    "    \n",
    "    for i in lista:\n",
    "\n",
    "        if type(i) == list:\n",
    "            soma += somaElementosV2(i)\n",
    "        else:\n",
    "            if type(i) == int or type(i) == float:\n",
    "                soma += i\n",
    "        \n",
    "    \n",
    "    return soma"
   ]
  },
  {
   "cell_type": "code",
   "execution_count": 16,
   "metadata": {},
   "outputs": [
    {
     "data": {
      "text/plain": [
       "35.85841"
      ]
     },
     "execution_count": 16,
     "metadata": {},
     "output_type": "execute_result"
    }
   ],
   "source": [
    "somaElementosV2([2, [2, [1, 8]], 8, [-3.14159, [3, [6, 9]]]])"
   ]
  },
  {
   "cell_type": "markdown",
   "metadata": {},
   "source": [
    "# Questão 3"
   ]
  },
  {
   "cell_type": "markdown",
   "metadata": {},
   "source": [
    "**DESAFIO 3**\n",
    "\n",
    "Escreva uma função chamada **alteraNota** que receba três parâmetros:\n",
    "* uma lista cujos elementos são sublistas com o  formato `[nome do aluno, nota do aluno]`;\n",
    "* um índice de um de seus elementos;\n",
    "* a nova nota do aluno relativa ao índice recebido.\n",
    "\n",
    "A função deve substituir a nota atual do aluno em questão pela nota recebida como parãmetro. Se, por exemplo, a função receber a lista [['Mickey', 8.7], ['Pateta', 6.5], ['Minnie', 9.9], ['Pato Donald', 7.2]], o índice 2 e a nota 10.0, deverá alterar a nota da aluna Minnie para 10.0.\n",
    "\n",
    "Escreva um programa que leia um nome de um aluno e, se o aluno fizer parte da turma, leia a nova nota desse aluno e altere a lista original da turma, utilizando a função **alteraNota**. Nesse caso, exiba a lista alterada. Se o aluno não fizer parte da turma, exiba apenas uma mensagem comentando tal fato.\n",
    "\n",
    "Para facilitar, utilize a lista exemplo acima como sendo a lista da turma. Se preferir, crie a sua própria lista de teste.\n",
    "\n",
    "Importante: copie o código da função de busca sequencial (buscaSeq) apresentado neste roteiro para o seu programa para utilizá-lo no bloco principal."
   ]
  },
  {
   "cell_type": "code",
   "execution_count": null,
   "metadata": {},
   "outputs": [],
   "source": []
  },
  {
   "cell_type": "markdown",
   "metadata": {},
   "source": [
    "# Questão 4"
   ]
  },
  {
   "cell_type": "markdown",
   "metadata": {},
   "source": [
    "# Questão 5"
   ]
  },
  {
   "cell_type": "markdown",
   "metadata": {},
   "source": [
    "# Questão 6"
   ]
  }
 ],
 "metadata": {
  "kernelspec": {
   "display_name": "Python 3",
   "language": "python",
   "name": "python3"
  },
  "language_info": {
   "codemirror_mode": {
    "name": "ipython",
    "version": 3
   },
   "file_extension": ".py",
   "mimetype": "text/x-python",
   "name": "python",
   "nbconvert_exporter": "python",
   "pygments_lexer": "ipython3",
   "version": "3.11.4"
  }
 },
 "nbformat": 4,
 "nbformat_minor": 2
}
